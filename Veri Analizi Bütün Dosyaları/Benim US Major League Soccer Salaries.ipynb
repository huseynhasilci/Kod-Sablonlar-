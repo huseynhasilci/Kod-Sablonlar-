{
 "cells": [
  {
   "cell_type": "code",
   "execution_count": 1,
   "metadata": {},
   "outputs": [],
   "source": [
    "import numpy as np\n",
    "import pandas as pd"
   ]
  },
  {
   "cell_type": "code",
   "execution_count": 2,
   "metadata": {},
   "outputs": [],
   "source": [
    "data_set = pd.read_csv(\"mls-salaries-2017.csv\")"
   ]
  },
  {
   "cell_type": "code",
   "execution_count": 3,
   "metadata": {},
   "outputs": [
    {
     "data": {
      "text/html": [
       "<div>\n",
       "<style scoped>\n",
       "    .dataframe tbody tr th:only-of-type {\n",
       "        vertical-align: middle;\n",
       "    }\n",
       "\n",
       "    .dataframe tbody tr th {\n",
       "        vertical-align: top;\n",
       "    }\n",
       "\n",
       "    .dataframe thead th {\n",
       "        text-align: right;\n",
       "    }\n",
       "</style>\n",
       "<table border=\"1\" class=\"dataframe\">\n",
       "  <thead>\n",
       "    <tr style=\"text-align: right;\">\n",
       "      <th></th>\n",
       "      <th>club</th>\n",
       "      <th>last_name</th>\n",
       "      <th>first_name</th>\n",
       "      <th>position</th>\n",
       "      <th>base_salary</th>\n",
       "      <th>guaranteed_compensation</th>\n",
       "    </tr>\n",
       "  </thead>\n",
       "  <tbody>\n",
       "    <tr>\n",
       "      <td>0</td>\n",
       "      <td>ATL</td>\n",
       "      <td>Almiron</td>\n",
       "      <td>Miguel</td>\n",
       "      <td>M</td>\n",
       "      <td>1912500.0</td>\n",
       "      <td>2297000.00</td>\n",
       "    </tr>\n",
       "    <tr>\n",
       "      <td>1</td>\n",
       "      <td>ATL</td>\n",
       "      <td>Ambrose</td>\n",
       "      <td>Mikey</td>\n",
       "      <td>D</td>\n",
       "      <td>65625.0</td>\n",
       "      <td>65625.00</td>\n",
       "    </tr>\n",
       "    <tr>\n",
       "      <td>2</td>\n",
       "      <td>ATL</td>\n",
       "      <td>Asad</td>\n",
       "      <td>Yamil</td>\n",
       "      <td>M</td>\n",
       "      <td>150000.0</td>\n",
       "      <td>150000.00</td>\n",
       "    </tr>\n",
       "    <tr>\n",
       "      <td>3</td>\n",
       "      <td>ATL</td>\n",
       "      <td>Bloom</td>\n",
       "      <td>Mark</td>\n",
       "      <td>D</td>\n",
       "      <td>99225.0</td>\n",
       "      <td>106573.89</td>\n",
       "    </tr>\n",
       "    <tr>\n",
       "      <td>4</td>\n",
       "      <td>ATL</td>\n",
       "      <td>Carleton</td>\n",
       "      <td>Andrew</td>\n",
       "      <td>F</td>\n",
       "      <td>65000.0</td>\n",
       "      <td>77400.00</td>\n",
       "    </tr>\n",
       "    <tr>\n",
       "      <td>...</td>\n",
       "      <td>...</td>\n",
       "      <td>...</td>\n",
       "      <td>...</td>\n",
       "      <td>...</td>\n",
       "      <td>...</td>\n",
       "      <td>...</td>\n",
       "    </tr>\n",
       "    <tr>\n",
       "      <td>611</td>\n",
       "      <td>VAN</td>\n",
       "      <td>Tornaghi</td>\n",
       "      <td>Paolo</td>\n",
       "      <td>GK</td>\n",
       "      <td>80000.0</td>\n",
       "      <td>80000.00</td>\n",
       "    </tr>\n",
       "    <tr>\n",
       "      <td>612</td>\n",
       "      <td>VAN</td>\n",
       "      <td>Waston</td>\n",
       "      <td>Kendall</td>\n",
       "      <td>D</td>\n",
       "      <td>350000.0</td>\n",
       "      <td>368125.00</td>\n",
       "    </tr>\n",
       "    <tr>\n",
       "      <td>613</td>\n",
       "      <td>VAN</td>\n",
       "      <td>Williams</td>\n",
       "      <td>Sheanon</td>\n",
       "      <td>D</td>\n",
       "      <td>175000.0</td>\n",
       "      <td>184000.00</td>\n",
       "    </tr>\n",
       "    <tr>\n",
       "      <td>614</td>\n",
       "      <td>NaN</td>\n",
       "      <td>Babouli</td>\n",
       "      <td>Mo</td>\n",
       "      <td>F</td>\n",
       "      <td>54075.0</td>\n",
       "      <td>54075.00</td>\n",
       "    </tr>\n",
       "    <tr>\n",
       "      <td>615</td>\n",
       "      <td>NaN</td>\n",
       "      <td>Ramajo</td>\n",
       "      <td>David Mateos</td>\n",
       "      <td>D</td>\n",
       "      <td>420000.0</td>\n",
       "      <td>453333.33</td>\n",
       "    </tr>\n",
       "  </tbody>\n",
       "</table>\n",
       "<p>616 rows × 6 columns</p>\n",
       "</div>"
      ],
      "text/plain": [
       "    club last_name    first_name position  base_salary  \\\n",
       "0    ATL   Almiron        Miguel        M    1912500.0   \n",
       "1    ATL   Ambrose         Mikey        D      65625.0   \n",
       "2    ATL      Asad         Yamil        M     150000.0   \n",
       "3    ATL     Bloom          Mark        D      99225.0   \n",
       "4    ATL  Carleton        Andrew        F      65000.0   \n",
       "..   ...       ...           ...      ...          ...   \n",
       "611  VAN  Tornaghi         Paolo       GK      80000.0   \n",
       "612  VAN    Waston       Kendall        D     350000.0   \n",
       "613  VAN  Williams       Sheanon        D     175000.0   \n",
       "614  NaN   Babouli            Mo        F      54075.0   \n",
       "615  NaN    Ramajo  David Mateos        D     420000.0   \n",
       "\n",
       "     guaranteed_compensation  \n",
       "0                 2297000.00  \n",
       "1                   65625.00  \n",
       "2                  150000.00  \n",
       "3                  106573.89  \n",
       "4                   77400.00  \n",
       "..                       ...  \n",
       "611                 80000.00  \n",
       "612                368125.00  \n",
       "613                184000.00  \n",
       "614                 54075.00  \n",
       "615                453333.33  \n",
       "\n",
       "[616 rows x 6 columns]"
      ]
     },
     "execution_count": 3,
     "metadata": {},
     "output_type": "execute_result"
    }
   ],
   "source": [
    "data_set"
   ]
  },
  {
   "cell_type": "code",
   "execution_count": 5,
   "metadata": {},
   "outputs": [
    {
     "data": {
      "text/html": [
       "<div>\n",
       "<style scoped>\n",
       "    .dataframe tbody tr th:only-of-type {\n",
       "        vertical-align: middle;\n",
       "    }\n",
       "\n",
       "    .dataframe tbody tr th {\n",
       "        vertical-align: top;\n",
       "    }\n",
       "\n",
       "    .dataframe thead th {\n",
       "        text-align: right;\n",
       "    }\n",
       "</style>\n",
       "<table border=\"1\" class=\"dataframe\">\n",
       "  <thead>\n",
       "    <tr style=\"text-align: right;\">\n",
       "      <th></th>\n",
       "      <th>club</th>\n",
       "      <th>last_name</th>\n",
       "      <th>first_name</th>\n",
       "      <th>position</th>\n",
       "      <th>base_salary</th>\n",
       "      <th>guaranteed_compensation</th>\n",
       "    </tr>\n",
       "  </thead>\n",
       "  <tbody>\n",
       "    <tr>\n",
       "      <td>0</td>\n",
       "      <td>ATL</td>\n",
       "      <td>Almiron</td>\n",
       "      <td>Miguel</td>\n",
       "      <td>M</td>\n",
       "      <td>1912500.0</td>\n",
       "      <td>2297000.00</td>\n",
       "    </tr>\n",
       "    <tr>\n",
       "      <td>1</td>\n",
       "      <td>ATL</td>\n",
       "      <td>Ambrose</td>\n",
       "      <td>Mikey</td>\n",
       "      <td>D</td>\n",
       "      <td>65625.0</td>\n",
       "      <td>65625.00</td>\n",
       "    </tr>\n",
       "    <tr>\n",
       "      <td>2</td>\n",
       "      <td>ATL</td>\n",
       "      <td>Asad</td>\n",
       "      <td>Yamil</td>\n",
       "      <td>M</td>\n",
       "      <td>150000.0</td>\n",
       "      <td>150000.00</td>\n",
       "    </tr>\n",
       "    <tr>\n",
       "      <td>3</td>\n",
       "      <td>ATL</td>\n",
       "      <td>Bloom</td>\n",
       "      <td>Mark</td>\n",
       "      <td>D</td>\n",
       "      <td>99225.0</td>\n",
       "      <td>106573.89</td>\n",
       "    </tr>\n",
       "    <tr>\n",
       "      <td>4</td>\n",
       "      <td>ATL</td>\n",
       "      <td>Carleton</td>\n",
       "      <td>Andrew</td>\n",
       "      <td>F</td>\n",
       "      <td>65000.0</td>\n",
       "      <td>77400.00</td>\n",
       "    </tr>\n",
       "    <tr>\n",
       "      <td>5</td>\n",
       "      <td>ATL</td>\n",
       "      <td>Carmona</td>\n",
       "      <td>Carlos</td>\n",
       "      <td>M</td>\n",
       "      <td>675000.0</td>\n",
       "      <td>725000.00</td>\n",
       "    </tr>\n",
       "    <tr>\n",
       "      <td>6</td>\n",
       "      <td>ATL</td>\n",
       "      <td>Garza</td>\n",
       "      <td>Greg</td>\n",
       "      <td>D</td>\n",
       "      <td>150000.0</td>\n",
       "      <td>150000.00</td>\n",
       "    </tr>\n",
       "    <tr>\n",
       "      <td>7</td>\n",
       "      <td>ATL</td>\n",
       "      <td>Gonzalez Pirez</td>\n",
       "      <td>Leandro</td>\n",
       "      <td>D</td>\n",
       "      <td>250008.0</td>\n",
       "      <td>285008.00</td>\n",
       "    </tr>\n",
       "    <tr>\n",
       "      <td>8</td>\n",
       "      <td>ATL</td>\n",
       "      <td>Goslin</td>\n",
       "      <td>Chris</td>\n",
       "      <td>M</td>\n",
       "      <td>70000.0</td>\n",
       "      <td>74000.00</td>\n",
       "    </tr>\n",
       "    <tr>\n",
       "      <td>9</td>\n",
       "      <td>ATL</td>\n",
       "      <td>Gressel</td>\n",
       "      <td>Julian</td>\n",
       "      <td>M</td>\n",
       "      <td>75000.0</td>\n",
       "      <td>93750.00</td>\n",
       "    </tr>\n",
       "  </tbody>\n",
       "</table>\n",
       "</div>"
      ],
      "text/plain": [
       "  club       last_name first_name position  base_salary  \\\n",
       "0  ATL         Almiron     Miguel        M    1912500.0   \n",
       "1  ATL         Ambrose      Mikey        D      65625.0   \n",
       "2  ATL            Asad      Yamil        M     150000.0   \n",
       "3  ATL           Bloom       Mark        D      99225.0   \n",
       "4  ATL        Carleton     Andrew        F      65000.0   \n",
       "5  ATL         Carmona     Carlos        M     675000.0   \n",
       "6  ATL           Garza       Greg        D     150000.0   \n",
       "7  ATL  Gonzalez Pirez    Leandro        D     250008.0   \n",
       "8  ATL          Goslin      Chris        M      70000.0   \n",
       "9  ATL         Gressel     Julian        M      75000.0   \n",
       "\n",
       "   guaranteed_compensation  \n",
       "0               2297000.00  \n",
       "1                 65625.00  \n",
       "2                150000.00  \n",
       "3                106573.89  \n",
       "4                 77400.00  \n",
       "5                725000.00  \n",
       "6                150000.00  \n",
       "7                285008.00  \n",
       "8                 74000.00  \n",
       "9                 93750.00  "
      ]
     },
     "execution_count": 5,
     "metadata": {},
     "output_type": "execute_result"
    }
   ],
   "source": [
    "data_set.head(n = 10)"
   ]
  },
  {
   "cell_type": "code",
   "execution_count": 6,
   "metadata": {},
   "outputs": [
    {
     "data": {
      "text/plain": [
       "RangeIndex(start=0, stop=616, step=1)"
      ]
     },
     "execution_count": 6,
     "metadata": {},
     "output_type": "execute_result"
    }
   ],
   "source": [
    "data_set.index"
   ]
  },
  {
   "cell_type": "code",
   "execution_count": 7,
   "metadata": {},
   "outputs": [
    {
     "data": {
      "text/plain": [
       "616"
      ]
     },
     "execution_count": 7,
     "metadata": {},
     "output_type": "execute_result"
    }
   ],
   "source": [
    "len(data_set.index)"
   ]
  },
  {
   "cell_type": "code",
   "execution_count": 8,
   "metadata": {},
   "outputs": [
    {
     "data": {
      "text/plain": [
       "296977.73686688306"
      ]
     },
     "execution_count": 8,
     "metadata": {},
     "output_type": "execute_result"
    }
   ],
   "source": [
    "data_set[\"base_salary\"].mean()"
   ]
  },
  {
   "cell_type": "code",
   "execution_count": 9,
   "metadata": {},
   "outputs": [
    {
     "data": {
      "text/plain": [
       "6660000.0"
      ]
     },
     "execution_count": 9,
     "metadata": {},
     "output_type": "execute_result"
    }
   ],
   "source": [
    "data_set[\"base_salary\"].max()"
   ]
  },
  {
   "cell_type": "code",
   "execution_count": 10,
   "metadata": {},
   "outputs": [
    {
     "data": {
      "text/plain": [
       "7167500.0"
      ]
     },
     "execution_count": 10,
     "metadata": {},
     "output_type": "execute_result"
    }
   ],
   "source": [
    "data_set[\"guaranteed_compensation\"].max()"
   ]
  },
  {
   "cell_type": "code",
   "execution_count": 11,
   "metadata": {},
   "outputs": [
    {
     "data": {
      "text/html": [
       "<div>\n",
       "<style scoped>\n",
       "    .dataframe tbody tr th:only-of-type {\n",
       "        vertical-align: middle;\n",
       "    }\n",
       "\n",
       "    .dataframe tbody tr th {\n",
       "        vertical-align: top;\n",
       "    }\n",
       "\n",
       "    .dataframe thead th {\n",
       "        text-align: right;\n",
       "    }\n",
       "</style>\n",
       "<table border=\"1\" class=\"dataframe\">\n",
       "  <thead>\n",
       "    <tr style=\"text-align: right;\">\n",
       "      <th></th>\n",
       "      <th>club</th>\n",
       "      <th>last_name</th>\n",
       "      <th>first_name</th>\n",
       "      <th>position</th>\n",
       "      <th>base_salary</th>\n",
       "      <th>guaranteed_compensation</th>\n",
       "    </tr>\n",
       "  </thead>\n",
       "  <tbody>\n",
       "    <tr>\n",
       "      <td>401</td>\n",
       "      <td>ORL</td>\n",
       "      <td>Kaka</td>\n",
       "      <td>NaN</td>\n",
       "      <td>M</td>\n",
       "      <td>6660000.0</td>\n",
       "      <td>7167500.0</td>\n",
       "    </tr>\n",
       "  </tbody>\n",
       "</table>\n",
       "</div>"
      ],
      "text/plain": [
       "    club last_name first_name position  base_salary  guaranteed_compensation\n",
       "401  ORL      Kaka        NaN        M    6660000.0                7167500.0"
      ]
     },
     "execution_count": 11,
     "metadata": {},
     "output_type": "execute_result"
    }
   ],
   "source": [
    "data_set[data_set[\"guaranteed_compensation\"] == data_set[\"guaranteed_compensation\"].max()]"
   ]
  },
  {
   "cell_type": "code",
   "execution_count": 12,
   "metadata": {},
   "outputs": [
    {
     "data": {
      "text/plain": [
       "401    Kaka\n",
       "Name: last_name, dtype: object"
      ]
     },
     "execution_count": 12,
     "metadata": {},
     "output_type": "execute_result"
    }
   ],
   "source": [
    "data_set[data_set[\"guaranteed_compensation\"] == data_set[\"guaranteed_compensation\"].max()][\"last_name\"]"
   ]
  },
  {
   "cell_type": "code",
   "execution_count": 13,
   "metadata": {},
   "outputs": [
    {
     "data": {
      "text/plain": [
       "'Kaka'"
      ]
     },
     "execution_count": 13,
     "metadata": {},
     "output_type": "execute_result"
    }
   ],
   "source": [
    "data_set[data_set[\"guaranteed_compensation\"] == data_set[\"guaranteed_compensation\"].max()][\"last_name\"].iloc[0]"
   ]
  },
  {
   "cell_type": "code",
   "execution_count": 15,
   "metadata": {},
   "outputs": [
    {
     "data": {
      "text/plain": [
       "'D'"
      ]
     },
     "execution_count": 15,
     "metadata": {},
     "output_type": "execute_result"
    }
   ],
   "source": [
    "data_set[data_set[\"last_name\"] == \"Gonzalez Pirez\"][\"position\"].iloc[0]"
   ]
  },
  {
   "cell_type": "code",
   "execution_count": 16,
   "metadata": {},
   "outputs": [
    {
     "data": {
      "text/html": [
       "<div>\n",
       "<style scoped>\n",
       "    .dataframe tbody tr th:only-of-type {\n",
       "        vertical-align: middle;\n",
       "    }\n",
       "\n",
       "    .dataframe tbody tr th {\n",
       "        vertical-align: top;\n",
       "    }\n",
       "\n",
       "    .dataframe thead th {\n",
       "        text-align: right;\n",
       "    }\n",
       "</style>\n",
       "<table border=\"1\" class=\"dataframe\">\n",
       "  <thead>\n",
       "    <tr style=\"text-align: right;\">\n",
       "      <th></th>\n",
       "      <th>base_salary</th>\n",
       "      <th>guaranteed_compensation</th>\n",
       "    </tr>\n",
       "    <tr>\n",
       "      <th>position</th>\n",
       "      <th></th>\n",
       "      <th></th>\n",
       "    </tr>\n",
       "  </thead>\n",
       "  <tbody>\n",
       "    <tr>\n",
       "      <td>D</td>\n",
       "      <td>166574.093784</td>\n",
       "      <td>179533.184811</td>\n",
       "    </tr>\n",
       "    <tr>\n",
       "      <td>D-M</td>\n",
       "      <td>134930.000000</td>\n",
       "      <td>154328.927857</td>\n",
       "    </tr>\n",
       "    <tr>\n",
       "      <td>F</td>\n",
       "      <td>489588.598349</td>\n",
       "      <td>557437.206514</td>\n",
       "    </tr>\n",
       "    <tr>\n",
       "      <td>F-M</td>\n",
       "      <td>335834.000000</td>\n",
       "      <td>367920.805000</td>\n",
       "    </tr>\n",
       "    <tr>\n",
       "      <td>F/M</td>\n",
       "      <td>125000.000000</td>\n",
       "      <td>131250.000000</td>\n",
       "    </tr>\n",
       "    <tr>\n",
       "      <td>GK</td>\n",
       "      <td>146472.515538</td>\n",
       "      <td>158665.155692</td>\n",
       "    </tr>\n",
       "    <tr>\n",
       "      <td>M</td>\n",
       "      <td>376106.218632</td>\n",
       "      <td>406781.788396</td>\n",
       "    </tr>\n",
       "    <tr>\n",
       "      <td>M-D</td>\n",
       "      <td>219032.250000</td>\n",
       "      <td>230282.250000</td>\n",
       "    </tr>\n",
       "    <tr>\n",
       "      <td>M-F</td>\n",
       "      <td>212975.604211</td>\n",
       "      <td>231104.551579</td>\n",
       "    </tr>\n",
       "    <tr>\n",
       "      <td>M/F</td>\n",
       "      <td>550000.000000</td>\n",
       "      <td>565000.000000</td>\n",
       "    </tr>\n",
       "  </tbody>\n",
       "</table>\n",
       "</div>"
      ],
      "text/plain": [
       "            base_salary  guaranteed_compensation\n",
       "position                                        \n",
       "D         166574.093784            179533.184811\n",
       "D-M       134930.000000            154328.927857\n",
       "F         489588.598349            557437.206514\n",
       "F-M       335834.000000            367920.805000\n",
       "F/M       125000.000000            131250.000000\n",
       "GK        146472.515538            158665.155692\n",
       "M         376106.218632            406781.788396\n",
       "M-D       219032.250000            230282.250000\n",
       "M-F       212975.604211            231104.551579\n",
       "M/F       550000.000000            565000.000000"
      ]
     },
     "execution_count": 16,
     "metadata": {},
     "output_type": "execute_result"
    }
   ],
   "source": [
    "data_set.groupby(\"position\").mean()"
   ]
  },
  {
   "cell_type": "code",
   "execution_count": 17,
   "metadata": {},
   "outputs": [
    {
     "data": {
      "text/plain": [
       "10"
      ]
     },
     "execution_count": 17,
     "metadata": {},
     "output_type": "execute_result"
    }
   ],
   "source": [
    "data_set[\"position\"].nunique()"
   ]
  },
  {
   "cell_type": "code",
   "execution_count": 18,
   "metadata": {},
   "outputs": [
    {
     "data": {
      "text/plain": [
       "M      212\n",
       "D      185\n",
       "F      109\n",
       "GK      65\n",
       "M-F     19\n",
       "D-M     14\n",
       "F-M      6\n",
       "M-D      4\n",
       "F/M      1\n",
       "M/F      1\n",
       "Name: position, dtype: int64"
      ]
     },
     "execution_count": 18,
     "metadata": {},
     "output_type": "execute_result"
    }
   ],
   "source": [
    "data_set[\"position\"].value_counts()"
   ]
  },
  {
   "cell_type": "code",
   "execution_count": 19,
   "metadata": {},
   "outputs": [
    {
     "data": {
      "text/plain": [
       "VAN      32\n",
       "PHI      31\n",
       "ATL      31\n",
       "ORL      30\n",
       "CLB      30\n",
       "SJ       29\n",
       "DAL      29\n",
       "NYRB     28\n",
       "HOU      28\n",
       "NYCFC    28\n",
       "CHI      27\n",
       "MNUFC    27\n",
       "LA       27\n",
       "RSL      27\n",
       "POR      27\n",
       "TOR      27\n",
       "DC       27\n",
       "MTL      27\n",
       "COL      26\n",
       "KC       26\n",
       "SEA      25\n",
       "NE       23\n",
       "LAFC      2\n",
       "Name: club, dtype: int64"
      ]
     },
     "execution_count": 19,
     "metadata": {},
     "output_type": "execute_result"
    }
   ],
   "source": [
    "data_set[\"club\"].value_counts()"
   ]
  },
  {
   "cell_type": "code",
   "execution_count": 20,
   "metadata": {},
   "outputs": [],
   "source": [
    "def son_find(x):\n",
    "    if \"son\" in x.lower():\n",
    "        return True\n",
    "    else:\n",
    "        return False"
   ]
  },
  {
   "cell_type": "code",
   "execution_count": 21,
   "metadata": {},
   "outputs": [
    {
     "data": {
      "text/plain": [
       "0      False\n",
       "1      False\n",
       "2      False\n",
       "3      False\n",
       "4      False\n",
       "       ...  \n",
       "611    False\n",
       "612    False\n",
       "613    False\n",
       "614    False\n",
       "615    False\n",
       "Name: last_name, Length: 616, dtype: bool"
      ]
     },
     "execution_count": 21,
     "metadata": {},
     "output_type": "execute_result"
    }
   ],
   "source": [
    "data_set[\"last_name\"].apply(son_find)"
   ]
  },
  {
   "cell_type": "code",
   "execution_count": 22,
   "metadata": {},
   "outputs": [
    {
     "data": {
      "text/html": [
       "<div>\n",
       "<style scoped>\n",
       "    .dataframe tbody tr th:only-of-type {\n",
       "        vertical-align: middle;\n",
       "    }\n",
       "\n",
       "    .dataframe tbody tr th {\n",
       "        vertical-align: top;\n",
       "    }\n",
       "\n",
       "    .dataframe thead th {\n",
       "        text-align: right;\n",
       "    }\n",
       "</style>\n",
       "<table border=\"1\" class=\"dataframe\">\n",
       "  <thead>\n",
       "    <tr style=\"text-align: right;\">\n",
       "      <th></th>\n",
       "      <th>club</th>\n",
       "      <th>last_name</th>\n",
       "      <th>first_name</th>\n",
       "      <th>position</th>\n",
       "      <th>base_salary</th>\n",
       "      <th>guaranteed_compensation</th>\n",
       "    </tr>\n",
       "  </thead>\n",
       "  <tbody>\n",
       "    <tr>\n",
       "      <td>21</td>\n",
       "      <td>ATL</td>\n",
       "      <td>Peterson</td>\n",
       "      <td>Jacob</td>\n",
       "      <td>F</td>\n",
       "      <td>165300.00</td>\n",
       "      <td>165300.00</td>\n",
       "    </tr>\n",
       "    <tr>\n",
       "      <td>23</td>\n",
       "      <td>ATL</td>\n",
       "      <td>Robinson</td>\n",
       "      <td>Miles</td>\n",
       "      <td>D</td>\n",
       "      <td>125000.04</td>\n",
       "      <td>195000.04</td>\n",
       "    </tr>\n",
       "    <tr>\n",
       "      <td>45</td>\n",
       "      <td>CHI</td>\n",
       "      <td>Johnson</td>\n",
       "      <td>Daniel</td>\n",
       "      <td>M</td>\n",
       "      <td>65004.00</td>\n",
       "      <td>65004.00</td>\n",
       "    </tr>\n",
       "    <tr>\n",
       "      <td>48</td>\n",
       "      <td>CHI</td>\n",
       "      <td>Lampson</td>\n",
       "      <td>Matt</td>\n",
       "      <td>GK</td>\n",
       "      <td>76000.00</td>\n",
       "      <td>81375.00</td>\n",
       "    </tr>\n",
       "    <tr>\n",
       "      <td>85</td>\n",
       "      <td>CLB</td>\n",
       "      <td>Swanson</td>\n",
       "      <td>Ben</td>\n",
       "      <td>M</td>\n",
       "      <td>85000.00</td>\n",
       "      <td>105416.67</td>\n",
       "    </tr>\n",
       "    <tr>\n",
       "      <td>163</td>\n",
       "      <td>DC</td>\n",
       "      <td>Robinson</td>\n",
       "      <td>Jalen</td>\n",
       "      <td>D</td>\n",
       "      <td>69996.00</td>\n",
       "      <td>69996.00</td>\n",
       "    </tr>\n",
       "    <tr>\n",
       "      <td>233</td>\n",
       "      <td>LA</td>\n",
       "      <td>Jamieson</td>\n",
       "      <td>Bradford</td>\n",
       "      <td>F</td>\n",
       "      <td>66150.00</td>\n",
       "      <td>66150.00</td>\n",
       "    </tr>\n",
       "    <tr>\n",
       "      <td>265</td>\n",
       "      <td>MNUFC</td>\n",
       "      <td>Ibson</td>\n",
       "      <td>NaN</td>\n",
       "      <td>M</td>\n",
       "      <td>200004.00</td>\n",
       "      <td>210337.40</td>\n",
       "    </tr>\n",
       "    <tr>\n",
       "      <td>276</td>\n",
       "      <td>MNUFC</td>\n",
       "      <td>Thiesson</td>\n",
       "      <td>Jerome</td>\n",
       "      <td>D</td>\n",
       "      <td>171000.00</td>\n",
       "      <td>210166.67</td>\n",
       "    </tr>\n",
       "    <tr>\n",
       "      <td>295</td>\n",
       "      <td>MTL</td>\n",
       "      <td>Jackson-Hamel</td>\n",
       "      <td>Anthony</td>\n",
       "      <td>F</td>\n",
       "      <td>66150.00</td>\n",
       "      <td>66150.00</td>\n",
       "    </tr>\n",
       "    <tr>\n",
       "      <td>327</td>\n",
       "      <td>NE</td>\n",
       "      <td>Watson</td>\n",
       "      <td>Je-Vaughn</td>\n",
       "      <td>D-M</td>\n",
       "      <td>150000.00</td>\n",
       "      <td>155666.67</td>\n",
       "    </tr>\n",
       "    <tr>\n",
       "      <td>338</td>\n",
       "      <td>NYCFC</td>\n",
       "      <td>Harrison</td>\n",
       "      <td>Jack</td>\n",
       "      <td>M</td>\n",
       "      <td>130000.00</td>\n",
       "      <td>165500.00</td>\n",
       "    </tr>\n",
       "    <tr>\n",
       "      <td>341</td>\n",
       "      <td>NYCFC</td>\n",
       "      <td>Johnson</td>\n",
       "      <td>Sean</td>\n",
       "      <td>GK</td>\n",
       "      <td>220008.00</td>\n",
       "      <td>220008.00</td>\n",
       "    </tr>\n",
       "    <tr>\n",
       "      <td>400</td>\n",
       "      <td>ORL</td>\n",
       "      <td>Johnson</td>\n",
       "      <td>Will</td>\n",
       "      <td>M</td>\n",
       "      <td>414000.00</td>\n",
       "      <td>450000.00</td>\n",
       "    </tr>\n",
       "    <tr>\n",
       "      <td>442</td>\n",
       "      <td>PHI</td>\n",
       "      <td>Simpson</td>\n",
       "      <td>Jay</td>\n",
       "      <td>F</td>\n",
       "      <td>465000.00</td>\n",
       "      <td>508333.33</td>\n",
       "    </tr>\n",
       "    <tr>\n",
       "      <td>459</td>\n",
       "      <td>POR</td>\n",
       "      <td>Gleeson</td>\n",
       "      <td>Jake</td>\n",
       "      <td>GK</td>\n",
       "      <td>110000.00</td>\n",
       "      <td>115166.67</td>\n",
       "    </tr>\n",
       "    <tr>\n",
       "      <td>522</td>\n",
       "      <td>SEA</td>\n",
       "      <td>Svensson</td>\n",
       "      <td>Gustav</td>\n",
       "      <td>M</td>\n",
       "      <td>170000.04</td>\n",
       "      <td>170000.04</td>\n",
       "    </tr>\n",
       "    <tr>\n",
       "      <td>550</td>\n",
       "      <td>SJ</td>\n",
       "      <td>Thompson</td>\n",
       "      <td>Tommy</td>\n",
       "      <td>M</td>\n",
       "      <td>150000.00</td>\n",
       "      <td>155000.00</td>\n",
       "    </tr>\n",
       "    <tr>\n",
       "      <td>594</td>\n",
       "      <td>VAN</td>\n",
       "      <td>Jacobson</td>\n",
       "      <td>Andrew</td>\n",
       "      <td>M</td>\n",
       "      <td>150000.00</td>\n",
       "      <td>175000.00</td>\n",
       "    </tr>\n",
       "  </tbody>\n",
       "</table>\n",
       "</div>"
      ],
      "text/plain": [
       "      club      last_name first_name position  base_salary  \\\n",
       "21     ATL       Peterson      Jacob        F    165300.00   \n",
       "23     ATL       Robinson      Miles        D    125000.04   \n",
       "45     CHI        Johnson     Daniel        M     65004.00   \n",
       "48     CHI        Lampson       Matt       GK     76000.00   \n",
       "85     CLB        Swanson        Ben        M     85000.00   \n",
       "163     DC       Robinson      Jalen        D     69996.00   \n",
       "233     LA       Jamieson   Bradford        F     66150.00   \n",
       "265  MNUFC          Ibson        NaN        M    200004.00   \n",
       "276  MNUFC       Thiesson     Jerome        D    171000.00   \n",
       "295    MTL  Jackson-Hamel    Anthony        F     66150.00   \n",
       "327     NE         Watson  Je-Vaughn      D-M    150000.00   \n",
       "338  NYCFC       Harrison       Jack        M    130000.00   \n",
       "341  NYCFC        Johnson       Sean       GK    220008.00   \n",
       "400    ORL        Johnson       Will        M    414000.00   \n",
       "442    PHI        Simpson        Jay        F    465000.00   \n",
       "459    POR        Gleeson       Jake       GK    110000.00   \n",
       "522    SEA       Svensson     Gustav        M    170000.04   \n",
       "550     SJ       Thompson      Tommy        M    150000.00   \n",
       "594    VAN       Jacobson     Andrew        M    150000.00   \n",
       "\n",
       "     guaranteed_compensation  \n",
       "21                 165300.00  \n",
       "23                 195000.04  \n",
       "45                  65004.00  \n",
       "48                  81375.00  \n",
       "85                 105416.67  \n",
       "163                 69996.00  \n",
       "233                 66150.00  \n",
       "265                210337.40  \n",
       "276                210166.67  \n",
       "295                 66150.00  \n",
       "327                155666.67  \n",
       "338                165500.00  \n",
       "341                220008.00  \n",
       "400                450000.00  \n",
       "442                508333.33  \n",
       "459                115166.67  \n",
       "522                170000.04  \n",
       "550                155000.00  \n",
       "594                175000.00  "
      ]
     },
     "execution_count": 22,
     "metadata": {},
     "output_type": "execute_result"
    }
   ],
   "source": [
    "data_set[data_set[\"last_name\"].apply(son_find)]"
   ]
  },
  {
   "cell_type": "code",
   "execution_count": null,
   "metadata": {},
   "outputs": [],
   "source": []
  }
 ],
 "metadata": {
  "kernelspec": {
   "display_name": "Python 3",
   "language": "python",
   "name": "python3"
  },
  "language_info": {
   "codemirror_mode": {
    "name": "ipython",
    "version": 3
   },
   "file_extension": ".py",
   "mimetype": "text/x-python",
   "name": "python",
   "nbconvert_exporter": "python",
   "pygments_lexer": "ipython3",
   "version": "3.7.4"
  }
 },
 "nbformat": 4,
 "nbformat_minor": 2
}
