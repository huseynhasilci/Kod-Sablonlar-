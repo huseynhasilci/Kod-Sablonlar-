{
 "cells": [
  {
   "cell_type": "code",
   "execution_count": 17,
   "metadata": {},
   "outputs": [],
   "source": [
    "# Don't change this cell; just run it. \n",
    "import numpy as np\n",
    "from datascience import *\n",
    "\n",
    "# These lines do some fancy plotting magic.\n",
    "import matplotlib\n",
    "%matplotlib inline\n",
    "import matplotlib.pyplot as plots\n",
    "plots.style.use('fivethirtyeight')\n",
    "import warnings\n",
    "warnings.simplefilter('ignore', FutureWarning)"
   ]
  },
  {
   "cell_type": "markdown",
   "metadata": {},
   "source": [
    "# (40 Points) Hotel Inspections"
   ]
  },
  {
   "cell_type": "markdown",
   "metadata": {},
   "source": [
    "In this exercise, we will explore a dataset that includes the safety inspection scores for hotels. We will be interested in determining the average hotel score for the city from a random sample of the scores. The average hotel score is out of 100. We'll compare two methods for computing a confidence interval: the bootstrap resampling method, and an approximation based on the Central Limit Theorem."
   ]
  },
  {
   "cell_type": "code",
   "execution_count": 18,
   "metadata": {},
   "outputs": [
    {
     "data": {
      "text/html": [
       "<table border=\"1\" class=\"dataframe\">\n",
       "    <thead>\n",
       "        <tr>\n",
       "            <th>Inspection Date</th> <th>Score</th>\n",
       "        </tr>\n",
       "    </thead>\n",
       "    <tbody>\n",
       "        <tr>\n",
       "            <td>01/27/2014     </td> <td>100  </td>\n",
       "        </tr>\n",
       "        <tr>\n",
       "            <td>08/18/2016     </td> <td>85   </td>\n",
       "        </tr>\n",
       "        <tr>\n",
       "            <td>12/18/2014     </td> <td>72   </td>\n",
       "        </tr>\n",
       "        <tr>\n",
       "            <td>01/22/2015     </td> <td>95   </td>\n",
       "        </tr>\n",
       "        <tr>\n",
       "            <td>02/19/2015     </td> <td>100  </td>\n",
       "        </tr>\n",
       "        <tr>\n",
       "            <td>11/14/2013     </td> <td>85   </td>\n",
       "        </tr>\n",
       "        <tr>\n",
       "            <td>11/06/2014     </td> <td>100  </td>\n",
       "        </tr>\n",
       "        <tr>\n",
       "            <td>01/25/2016     </td> <td>89   </td>\n",
       "        </tr>\n",
       "        <tr>\n",
       "            <td>04/05/2016     </td> <td>76   </td>\n",
       "        </tr>\n",
       "        <tr>\n",
       "            <td>11/10/2015     </td> <td>75   </td>\n",
       "        </tr>\n",
       "    </tbody>\n",
       "</table>\n",
       "<p>... (19990 rows omitted)</p>"
      ],
      "text/plain": [
       "Inspection Date | Score\n",
       "01/27/2014      | 100\n",
       "08/18/2016      | 85\n",
       "12/18/2014      | 72\n",
       "01/22/2015      | 95\n",
       "02/19/2015      | 100\n",
       "11/14/2013      | 85\n",
       "11/06/2014      | 100\n",
       "01/25/2016      | 89\n",
       "04/05/2016      | 76\n",
       "11/10/2015      | 75\n",
       "... (19990 rows omitted)"
      ]
     },
     "execution_count": 18,
     "metadata": {},
     "output_type": "execute_result"
    }
   ],
   "source": [
    "hotel_scores = Table.read_table('hotel_inspection.csv')\n",
    "hotel_scores"
   ]
  },
  {
   "cell_type": "markdown",
   "metadata": {},
   "source": [
    "## 1. (10 Points) Data Exploration\n",
    "\n",
    "**a. (3 Points) Plot a histogram of the scores in the cell below.**"
   ]
  },
  {
   "cell_type": "code",
   "execution_count": 19,
   "metadata": {
    "deletable": false
   },
   "outputs": [
    {
     "data": {
      "image/png": "[encoded data removed]",
      "text/plain": [
       "<Figure size 432x288 with 1 Axes>"
      ]
     },
     "metadata": {},
     "output_type": "display_data"
    }
   ],
   "source": [
    "# Write your code here.\n",
    "hotel_scores.hist(\"Score\",bins = 50)"
   ]
  },
  {
   "cell_type": "markdown",
   "metadata": {},
   "source": [
    "**b. (3 Points) Calculate the *population mean*:**"
   ]
  },
  {
   "cell_type": "code",
   "execution_count": 20,
   "metadata": {},
   "outputs": [
    {
     "data": {
      "text/plain": [
       "91.42175"
      ]
     },
     "execution_count": 20,
     "metadata": {},
     "output_type": "execute_result"
    }
   ],
   "source": [
    "pop_mean = hotel_scores.column(1).mean()\n",
    "pop_mean"
   ]
  },
  {
   "cell_type": "markdown",
   "metadata": {},
   "source": [
    "Often it is impossible to find complete datasets like this.  Imagine we instead had access only to a random sample of 100 hotel inspections, called `hotel_sample`.  That table is created below. We are interested in using this sample to estimate the population mean."
   ]
  },
  {
   "cell_type": "code",
   "execution_count": 21,
   "metadata": {},
   "outputs": [
    {
     "data": {
      "text/html": [
       "<table border=\"1\" class=\"dataframe\">\n",
       "    <thead>\n",
       "        <tr>\n",
       "            <th>Inspection Date</th> <th>Score</th>\n",
       "        </tr>\n",
       "    </thead>\n",
       "    <tbody>\n",
       "        <tr>\n",
       "            <td>04/21/2015     </td> <td>86   </td>\n",
       "        </tr>\n",
       "        <tr>\n",
       "            <td>05/11/2016     </td> <td>93   </td>\n",
       "        </tr>\n",
       "        <tr>\n",
       "            <td>03/02/2015     </td> <td>83   </td>\n",
       "        </tr>\n",
       "        <tr>\n",
       "            <td>06/18/2014     </td> <td>93   </td>\n",
       "        </tr>\n",
       "        <tr>\n",
       "            <td>07/05/2016     </td> <td>90   </td>\n",
       "        </tr>\n",
       "        <tr>\n",
       "            <td>01/20/2015     </td> <td>93   </td>\n",
       "        </tr>\n",
       "        <tr>\n",
       "            <td>03/11/2016     </td> <td>99   </td>\n",
       "        </tr>\n",
       "        <tr>\n",
       "            <td>08/25/2014     </td> <td>96   </td>\n",
       "        </tr>\n",
       "        <tr>\n",
       "            <td>06/13/2016     </td> <td>100  </td>\n",
       "        </tr>\n",
       "        <tr>\n",
       "            <td>04/02/2015     </td> <td>100  </td>\n",
       "        </tr>\n",
       "    </tbody>\n",
       "</table>\n",
       "<p>... (90 rows omitted)</p>"
      ],
      "text/plain": [
       "Inspection Date | Score\n",
       "04/21/2015      | 86\n",
       "05/11/2016      | 93\n",
       "03/02/2015      | 83\n",
       "06/18/2014      | 93\n",
       "07/05/2016      | 90\n",
       "01/20/2015      | 93\n",
       "03/11/2016      | 99\n",
       "08/25/2014      | 96\n",
       "06/13/2016      | 100\n",
       "04/02/2015      | 100\n",
       "... (90 rows omitted)"
      ]
     },
     "execution_count": 21,
     "metadata": {},
     "output_type": "execute_result"
    }
   ],
   "source": [
    "hotel_sample = hotel_scores.sample(100, with_replacement=False)\n",
    "hotel_sample"
   ]
  },
  {
   "cell_type": "markdown",
   "metadata": {},
   "source": [
    "**c. (4 Points) Plot a histogram of the *sample* scores in the cell below.**"
   ]
  },
  {
   "cell_type": "code",
   "execution_count": 22,
   "metadata": {
    "deletable": false
   },
   "outputs": [
    {
     "data": {
      "image/png": "[encoded data removed]",
      "text/plain": [
       "<Figure size 432x288 with 1 Axes>"
      ]
     },
     "metadata": {},
     "output_type": "display_data"
    }
   ],
   "source": [
    "# Write your code \"here:\n",
    "hotel_sample.hist(\"Score\",bins = 25)"
   ]
  },
  {
   "cell_type": "markdown",
   "metadata": {},
   "source": [
    "Calculate the **sample mean**:"
   ]
  },
  {
   "cell_type": "code",
   "execution_count": 23,
   "metadata": {},
   "outputs": [
    {
     "data": {
      "text/plain": [
       "92.0"
      ]
     },
     "execution_count": 23,
     "metadata": {},
     "output_type": "execute_result"
    }
   ],
   "source": [
    "sample_mean = hotel_sample.column(1).mean()\n",
    "sample_mean"
   ]
  },
  {
   "cell_type": "markdown",
   "metadata": {},
   "source": [
    "## 2. (15 Points) Bootstraping\n",
    "**a. (10 Points) Complete the function `bootstrap_scores` below. It should take no arguments. It should simulate drawing 5000  bootstrap samples (same size as the original sample) from `hotel_sample` and computing the mean hotel score in each sample.  It should return an array (resampled_means) of those 5000 bootstrap sample means.**"
   ]
  },
  {
   "cell_type": "code",
   "execution_count": 24,
   "metadata": {
    "deletable": false,
    "manual_problem_id": "restaurant_bootstrap_means"
   },
   "outputs": [
    {
     "data": {
      "text/plain": [
       "array([94., 96., 96., ..., 96., 96., 97.])"
      ]
     },
     "execution_count": 24,
     "metadata": {},
     "output_type": "execute_result"
    }
   ],
   "source": [
    "#medians = make_array()\n",
    "\n",
    "#for i in np.arange(1000):\n",
    "#    resampled = our_sample.sample()\n",
    " #   median = percentile(50, resampled.column('Total Compensation'))\n",
    "  #  medians = np.append(medians, median)\n",
    "\n",
    "def bootstrap_scores():\n",
    "    resampled_means = make_array()\n",
    "    for i in range(5000):\n",
    "        resampled_mean1 = hotel_sample.sample()\n",
    "        resampled_mean = percentile(50,resampled_mean1.column(\"Score\"))\n",
    "        resampled_means = np.append(resampled_means, resampled_mean) \n",
    "    return resampled_means\n",
    "\n",
    "resampled_means = bootstrap_scores()\n",
    "resampled_means"
   ]
  },
  {
   "cell_type": "markdown",
   "metadata": {
    "collapsed": true,
    "deletable": false
   },
   "source": []
  },
  {
   "cell_type": "markdown",
   "metadata": {},
   "source": [
    "Plot a histogram of the **bootstrap sample means**."
   ]
  },
  {
   "cell_type": "code",
   "execution_count": 25,
   "metadata": {},
   "outputs": [
    {
     "data": {
      "image/png": "[encoded data removed]",
      "text/plain": [
       "<Figure size 432x288 with 1 Axes>"
      ]
     },
     "metadata": {},
     "output_type": "display_data"
    }
   ],
   "source": [
    "\n",
    "hotel_sample = Table().with_column(\n",
    "    'Bootstrap Sample Median', resampled_means)\n",
    "\n",
    "hotel_sample.hist()\n",
    "\n",
    "#plots.scatter(pop_median, 0, color='red', s=40);"
   ]
  },
  {
   "cell_type": "markdown",
   "metadata": {},
   "source": [
    "**b. (5 Points) Compute a 95 percent confidence interval for the average hotel score using the array `resampled_means`.**"
   ]
  },
  {
   "cell_type": "code",
   "execution_count": 26,
   "metadata": {
    "deletable": false,
    "manual_problem_id": "bootstrap_4"
   },
   "outputs": [
    {
     "name": "stdout",
     "output_type": "stream",
     "text": [
      "95% confidence interval for the average hotel score, computed by bootstrapping:\n",
      "( 93.0 , 96.0 )\n"
     ]
    }
   ],
   "source": [
    "lower_bound = percentile(5, hotel_sample.column(\"Bootstrap Sample Median\"))\n",
    "upper_bound = percentile(95, hotel_sample.column(\"Bootstrap Sample Median\"))\n",
    "print(\"95% confidence interval for the average hotel score, computed by bootstrapping:\\n(\",lower_bound, \",\", upper_bound, \")\")"
   ]
  },
  {
   "cell_type": "markdown",
   "metadata": {
    "deletable": false,
    "manual_problem_id": "bootstrap_6"
   },
   "source": []
  },
  {
   "cell_type": "markdown",
   "metadata": {},
   "source": [
    "## 3. (15 Points) Central Limit Theorum"
   ]
  },
  {
   "cell_type": "markdown",
   "metadata": {},
   "source": [
    "**a. (5 Points) Does the distribution of the  bootstrap sample mean scores(from part 2.a) look normally distributed? State \"yes\" or \"no\" and describe in one sentence why you should expect this result.**\n"
   ]
  },
  {
   "cell_type": "markdown",
   "metadata": {
    "deletable": false,
    "manual_problem_id": "bootstrap_5"
   },
   "source": [
    "*Yes.*"
   ]
  },
  {
   "cell_type": "markdown",
   "metadata": {},
   "source": [
    "For the previous question, you'll need to recall two facts.\n",
    "1. If a group of numbers has a normal distribution, around 95% of them lie within 2 standard deviations of their mean.\n",
    "2. The Central Limit Theorem tells us the quantitative relationship between the following:\n",
    "    * the standard deviation of an array of numbers.\n",
    "    * the standard deviation of an array of means of samples taken from those numbers."
   ]
  },
  {
   "cell_type": "markdown",
   "metadata": {},
   "source": [
    "**b. (10 Points) Without using the array `resampled_means` or performing any new simulations, calculate 95 percent confidence interval for the average hotel score**\n",
    "\n",
    "You may use the following values to compute your result, but you should not perform additional sampling - think about how you can use the Central Limit Theorem to accomplish this. You can use sample standard deviation before as an approximation for population standard deviation. "
   ]
  },
  {
   "cell_type": "code",
   "execution_count": 27,
   "metadata": {
    "deletable": false,
    "for_assignment_type": "student",
    "manual_problem_id": "bootstrap_7"
   },
   "outputs": [
    {
     "name": "stdout",
     "output_type": "stream",
     "text": [
      "95% confidence interval for the average hotel score, computed by a normal approximation:\n",
      "( 3929.862287824357 , 3929.862287824357 )\n"
     ]
    }
   ],
   "source": [
    "sample_mean = np.mean(hotel_sample.column(\"Bootstrap Sample Median\"))\n",
    "sample_sd = np.std(hotel_sample.column(\"Bootstrap Sample Median\"))\n",
    "sample_size = hotel_sample.num_rows\n",
    "normal = (sample_size-sample_mean)/sample_sd\n",
    "\n",
    "hotel_sample = Table().with_column('Bootstrap Sample Median1', normal)\n",
    "\n",
    "lower_bound_normal = percentile(5, hotel_sample.column(\"Bootstrap Sample Median1\"))\n",
    "upper_bound_normal = percentile(95, hotel_sample.column(\"Bootstrap Sample Median1\"))\n",
    "print(\"95% confidence interval for the average hotel score, computed by a normal approximation:\\n(\",lower_bound_normal, \",\", upper_bound_normal, \")\")"
   ]
  },
  {
   "cell_type": "markdown",
   "metadata": {},
   "source": [
    "This confidence interval should look very similar to the one you computed in **Question 1**. This is actually an interval around the `sample_mean` that would cover approximately 95% of the numbers in the `resampled_means` array."
   ]
  },
  {
   "cell_type": "markdown",
   "metadata": {},
   "source": [
    "# (40 Points) Learning to fly a drone"
   ]
  },
  {
   "cell_type": "markdown",
   "metadata": {},
   "source": [
    "You recently bought a drone and trying to practice flying it. You decided to challenge your self and mark a special landing zone in front of your house. You practice landing the drone on that mark. Since you are stuck at home, you try this landing excercise over 800 times. \n",
    "\n",
    "You document the landing coordinates of all your trials. You don't always land on the mark, many external factors affect your landing accuracy. "
   ]
  },
  {
   "cell_type": "markdown",
   "metadata": {},
   "source": [
    "## 1. (7 points) Exploring the data\n",
    "\n",
    "**Your landing coordinates are documented in coords.csv. Landing mark is at (0,0)**\n",
    "\n",
    "**a. (4 Points) Plot a scatter of the x, y coordinates of your landing positions. Add a marker at point (0, 0) for your landing mark.**"
   ]
  },
  {
   "cell_type": "code",
   "execution_count": 28,
   "metadata": {
    "ExecuteTime": {
     "end_time": "2020-05-01T22:07:56.273976Z",
     "start_time": "2020-05-01T22:07:56.264142Z"
    }
   },
   "outputs": [
    {
     "data": {
      "text/html": [
       "<table border=\"1\" class=\"dataframe\">\n",
       "    <thead>\n",
       "        <tr>\n",
       "            <th>x</th> <th>y</th>\n",
       "        </tr>\n",
       "    </thead>\n",
       "    <tbody>\n",
       "        <tr>\n",
       "            <td>17.8207 </td> <td>-8.11736</td>\n",
       "        </tr>\n",
       "        <tr>\n",
       "            <td>4.465   </td> <td>2.91691 </td>\n",
       "        </tr>\n",
       "        <tr>\n",
       "            <td>11.5573 </td> <td>30.368  </td>\n",
       "        </tr>\n",
       "        <tr>\n",
       "            <td>-15.2723</td> <td>-6.95247</td>\n",
       "        </tr>\n",
       "        <tr>\n",
       "            <td>4.18479 </td> <td>-36.8061</td>\n",
       "        </tr>\n",
       "        <tr>\n",
       "            <td>35.2748 </td> <td>-32.7902</td>\n",
       "        </tr>\n",
       "        <tr>\n",
       "            <td>-9.62583</td> <td>-42.9628</td>\n",
       "        </tr>\n",
       "        <tr>\n",
       "            <td>-59.8439</td> <td>17.283  </td>\n",
       "        </tr>\n",
       "        <tr>\n",
       "            <td>3.65805 </td> <td>8.80531 </td>\n",
       "        </tr>\n",
       "        <tr>\n",
       "            <td>-28.2791</td> <td>50.522  </td>\n",
       "        </tr>\n",
       "    </tbody>\n",
       "</table>\n",
       "<p>... (815 rows omitted)</p>"
      ],
      "text/plain": [
       "x        | y\n",
       "17.8207  | -8.11736\n",
       "4.465    | 2.91691\n",
       "11.5573  | 30.368\n",
       "-15.2723 | -6.95247\n",
       "4.18479  | -36.8061\n",
       "35.2748  | -32.7902\n",
       "-9.62583 | -42.9628\n",
       "-59.8439 | 17.283\n",
       "3.65805  | 8.80531\n",
       "-28.2791 | 50.522\n",
       "... (815 rows omitted)"
      ]
     },
     "execution_count": 28,
     "metadata": {},
     "output_type": "execute_result"
    },
    {
     "data": {
      "image/png": "[encoded data removed]",
      "text/plain": [
       "<Figure size 432x288 with 1 Axes>"
      ]
     },
     "metadata": {},
     "output_type": "display_data"
    }
   ],
   "source": [
    "coords = Table.read_table(\"coords.csv\")\n",
    "# plot scatter of coords\n",
    "# add a marker for the landing pad at x=0, y=0. Look at the codes from Chapter 11 or other chapters to see examples of how you can mark (0,0)\n",
    "coords.hist()\n",
    "plots.scatter(0, 0, color='red', s=30)\n",
    "coords"
   ]
  },
  {
   "cell_type": "markdown",
   "metadata": {},
   "source": [
    "One time, something strange happened and you landed very far from the landing mark, specifically at point (80.59, 30.91). You don't understand if it was a strange incident such as a malfunction of the drone. \n",
    "\n",
    "\n",
    "**b. (3 Points) Add marker to this point on your previous graph**"
   ]
  },
  {
   "cell_type": "code",
   "execution_count": 29,
   "metadata": {
    "ExecuteTime": {
     "end_time": "2020-05-01T22:17:56.493072Z",
     "start_time": "2020-05-01T22:17:56.488619Z"
    }
   },
   "outputs": [
    {
     "data": {
      "text/plain": [
       "<matplotlib.collections.PathCollection at 0x1e1903b7108>"
      ]
     },
     "execution_count": 29,
     "metadata": {},
     "output_type": "execute_result"
    },
    {
     "data": {
      "image/png": "[encoded data removed]",
      "text/plain": [
       "<Figure size 432x288 with 1 Axes>"
      ]
     },
     "metadata": {},
     "output_type": "display_data"
    }
   ],
   "source": [
    "strange_landing = make_array(80.59, 30.91)\n",
    "# recreate the previous plot and add a special marker for this strange landing\n",
    "coords.hist()\n",
    "plots.scatter(strange_landing[0],strange_landing[1], color='red', s=30)"
   ]
  },
  {
   "cell_type": "markdown",
   "metadata": {},
   "source": [
    "## 2. (7 points) hypothesis testing: \n",
    "\n",
    "**Given what you learned in CS240 you'd like to test if this was indeed a strange incident. To do this you'll use hypothesis testing.  We've written down an alternative hypothesis below.  What is a reasonable null hypothesis?**"
   ]
  },
  {
   "cell_type": "markdown",
   "metadata": {
    "deletable": false,
    "for_assignment_type": "student",
    "manual_grade": true,
    "manual_problem_id": "landing_1"
   },
   "source": [
    "**Null hypothesis:** .. *The avarage population or something else is equal to null hypothesis. To give an exmaple, the average age in the population is 30 years.* \n",
    "\n",
    "**Alternative hypothesis:** The avarage population or something else is not equal to the alternative hypothesis. To give an exmaple, The average age in the population is not\n",
    "30 years. "
   ]
  },
  {
   "cell_type": "markdown",
   "metadata": {},
   "source": [
    "## 3. (6 points) What's a good test statistic for this hypothesis test? \n",
    "\n",
    "A good test statistic would be small if the null hypothesis is true, and large otherwise. If we want to compare landings, we want to see *how far* each landing is from some *reference point*, so we can compare all landings from the same point.\n",
    "\n",
    "\n",
    "You choose the distance from each landing point to the landing mark (0, 0) as your test statistic. \n",
    "\n",
    "**Write a function that given x, y calculates the test statisitc at these coordinates.**"
   ]
  },
  {
   "cell_type": "code",
   "execution_count": 149,
   "metadata": {
    "deletable": false,
    "manual_grade": true,
    "manual_problem_id": "landing_3"
   },
   "outputs": [
    {
     "data": {
      "text/plain": [
       "array([-11.03427512,   0.        , -11.03427512, ...,   0.        ,\n",
       "       -11.03427512,   0.        ])"
      ]
     },
     "execution_count": 149,
     "metadata": {},
     "output_type": "execute_result"
    }
   ],
   "source": [
    "def landing_test_statistic(x_coordinate, y_coordinate):\n",
    "    distance1 = x_coordinate.where(\"x\",np.average)\n",
    "    distance2 = y_coordinate.where(\"y\",np.average)\n",
    "    return distance1.column(1).item(0) - distance1.column(1).item(1),distance2.column(1).item(0) - distance2.column(1).item(0)\n",
    "cord_x = coords.select(\"x\")\n",
    "cord_y = coords.select(\"y\")\n",
    "shuffled_coord = coords.sample(with_replacement=False).column(0)\n",
    "shuffled_coord1 = coords.sample(with_replacement=False).column(1)\n",
    "shuffled = coords.with_column('Shuffled Coords x', shuffled_coord)\n",
    "shuffled1 = coords.with_column('Shuffled Coords y', shuffled_coord1)\n",
    "shuffled1\n",
    "diffs = make_array()\n",
    "repetitions=5000\n",
    "for i in np.arange(repetitions):\n",
    "    shuffled_coord = coords.sample(with_replacement=False).column(0)\n",
    "    shuffled_coord1 = coords.sample(with_replacement=False).column(1)\n",
    "    shuffled = coords.with_column('Shuffled Coords x', shuffled_coord)\n",
    "    shuffled1 = coords.with_column('Shuffled Coords y', shuffled_coord1)\n",
    "    diff = landing_test_statistic(shuffled,shuffled1)\n",
    "    diffs = np.append(diffs, diff)\n",
    "\n",
    "diffs"
   ]
  },
  {
   "cell_type": "markdown",
   "metadata": {},
   "source": [
    "## 4. (20 points) We are going to compute the p-value using your test statistic.  \n",
    "\n",
    "**a. (4 Points) First let's calculate the test statistic for our strange landing point (the landing point from 1.b) using the function you created in the previous question.**"
   ]
  },
  {
   "cell_type": "code",
   "execution_count": 150,
   "metadata": {
    "ExecuteTime": {
     "end_time": "2020-05-01T22:20:49.429981Z",
     "start_time": "2020-05-01T22:20:49.425822Z"
    }
   },
   "outputs": [
    {
     "ename": "AttributeError",
     "evalue": "'numpy.float64' object has no attribute 'where'",
     "output_type": "error",
     "traceback": [
      "\u001b[1;31m---------------------------------------------------------------------------\u001b[0m",
      "\u001b[1;31mAttributeError\u001b[0m                            Traceback (most recent call last)",
      "\u001b[1;32m<ipython-input-150-18383df37f2a>\u001b[0m in \u001b[0;36m<module>\u001b[1;34m\u001b[0m\n\u001b[1;32m----> 1\u001b[1;33m \u001b[0mstrange_test_stat\u001b[0m \u001b[1;33m=\u001b[0m \u001b[0mlanding_test_statistic\u001b[0m\u001b[1;33m(\u001b[0m\u001b[0mstrange_landing\u001b[0m\u001b[1;33m[\u001b[0m\u001b[1;36m0\u001b[0m\u001b[1;33m]\u001b[0m\u001b[1;33m,\u001b[0m\u001b[0mstrange_landing\u001b[0m\u001b[1;33m[\u001b[0m\u001b[1;36m1\u001b[0m\u001b[1;33m]\u001b[0m\u001b[1;33m)\u001b[0m\u001b[1;33m\u001b[0m\u001b[1;33m\u001b[0m\u001b[0m\n\u001b[0m\u001b[0;32m      2\u001b[0m \u001b[1;33m\u001b[0m\u001b[0m\n\u001b[0;32m      3\u001b[0m \u001b[0mstrange_test_stat\u001b[0m\u001b[1;33m\u001b[0m\u001b[1;33m\u001b[0m\u001b[0m\n",
      "\u001b[1;32m<ipython-input-149-1ce058b13719>\u001b[0m in \u001b[0;36mlanding_test_statistic\u001b[1;34m(x_coordinate, y_coordinate)\u001b[0m\n\u001b[0;32m      1\u001b[0m \u001b[1;32mdef\u001b[0m \u001b[0mlanding_test_statistic\u001b[0m\u001b[1;33m(\u001b[0m\u001b[0mx_coordinate\u001b[0m\u001b[1;33m,\u001b[0m \u001b[0my_coordinate\u001b[0m\u001b[1;33m)\u001b[0m\u001b[1;33m:\u001b[0m\u001b[1;33m\u001b[0m\u001b[1;33m\u001b[0m\u001b[0m\n\u001b[1;32m----> 2\u001b[1;33m     \u001b[0mdistance1\u001b[0m \u001b[1;33m=\u001b[0m \u001b[0mx_coordinate\u001b[0m\u001b[1;33m.\u001b[0m\u001b[0mwhere\u001b[0m\u001b[1;33m(\u001b[0m\u001b[1;34m\"x\"\u001b[0m\u001b[1;33m,\u001b[0m\u001b[0mnp\u001b[0m\u001b[1;33m.\u001b[0m\u001b[0maverage\u001b[0m\u001b[1;33m)\u001b[0m\u001b[1;33m\u001b[0m\u001b[1;33m\u001b[0m\u001b[0m\n\u001b[0m\u001b[0;32m      3\u001b[0m     \u001b[0mdistance2\u001b[0m \u001b[1;33m=\u001b[0m \u001b[0my_coordinate\u001b[0m\u001b[1;33m.\u001b[0m\u001b[0mwhere\u001b[0m\u001b[1;33m(\u001b[0m\u001b[1;34m\"y\"\u001b[0m\u001b[1;33m,\u001b[0m\u001b[0mnp\u001b[0m\u001b[1;33m.\u001b[0m\u001b[0maverage\u001b[0m\u001b[1;33m)\u001b[0m\u001b[1;33m\u001b[0m\u001b[1;33m\u001b[0m\u001b[0m\n\u001b[0;32m      4\u001b[0m     \u001b[1;32mreturn\u001b[0m \u001b[0mdistance1\u001b[0m\u001b[1;33m.\u001b[0m\u001b[0mcolumn\u001b[0m\u001b[1;33m(\u001b[0m\u001b[1;36m1\u001b[0m\u001b[1;33m)\u001b[0m\u001b[1;33m.\u001b[0m\u001b[0mitem\u001b[0m\u001b[1;33m(\u001b[0m\u001b[1;36m0\u001b[0m\u001b[1;33m)\u001b[0m \u001b[1;33m-\u001b[0m \u001b[0mdistance1\u001b[0m\u001b[1;33m.\u001b[0m\u001b[0mcolumn\u001b[0m\u001b[1;33m(\u001b[0m\u001b[1;36m1\u001b[0m\u001b[1;33m)\u001b[0m\u001b[1;33m.\u001b[0m\u001b[0mitem\u001b[0m\u001b[1;33m(\u001b[0m\u001b[1;36m1\u001b[0m\u001b[1;33m)\u001b[0m\u001b[1;33m,\u001b[0m\u001b[0mdistance2\u001b[0m\u001b[1;33m.\u001b[0m\u001b[0mcolumn\u001b[0m\u001b[1;33m(\u001b[0m\u001b[1;36m1\u001b[0m\u001b[1;33m)\u001b[0m\u001b[1;33m.\u001b[0m\u001b[0mitem\u001b[0m\u001b[1;33m(\u001b[0m\u001b[1;36m0\u001b[0m\u001b[1;33m)\u001b[0m \u001b[1;33m-\u001b[0m \u001b[0mdistance2\u001b[0m\u001b[1;33m.\u001b[0m\u001b[0mcolumn\u001b[0m\u001b[1;33m(\u001b[0m\u001b[1;36m1\u001b[0m\u001b[1;33m)\u001b[0m\u001b[1;33m.\u001b[0m\u001b[0mitem\u001b[0m\u001b[1;33m(\u001b[0m\u001b[1;36m0\u001b[0m\u001b[1;33m)\u001b[0m\u001b[1;33m\u001b[0m\u001b[1;33m\u001b[0m\u001b[0m\n\u001b[0;32m      5\u001b[0m \u001b[0mcord_x\u001b[0m \u001b[1;33m=\u001b[0m \u001b[0mcoords\u001b[0m\u001b[1;33m.\u001b[0m\u001b[0mselect\u001b[0m\u001b[1;33m(\u001b[0m\u001b[1;34m\"x\"\u001b[0m\u001b[1;33m)\u001b[0m\u001b[1;33m\u001b[0m\u001b[1;33m\u001b[0m\u001b[0m\n",
      "\u001b[1;31mAttributeError\u001b[0m: 'numpy.float64' object has no attribute 'where'"
     ]
    }
   ],
   "source": [
    "strange_test_stat = landing_test_statistic(strange_landing[0],strange_landing[1])\n",
    "\n",
    "strange_test_stat"
   ]
  },
  {
   "cell_type": "markdown",
   "metadata": {},
   "source": [
    "**b. (6 Points) Now we are going to find the test stat for all the landing points in our dataset. Use the function you created to calculate the test stat for all x,y values.**"
   ]
  },
  {
   "cell_type": "code",
   "execution_count": null,
   "metadata": {
    "ExecuteTime": {
     "end_time": "2020-05-01T22:24:25.908084Z",
     "start_time": "2020-05-01T22:24:25.869514Z"
    }
   },
   "outputs": [],
   "source": [
    "all_points_test_stats = make_array()\n",
    "# calculate the test stats for all landing points and store them to the array all_points_test_stats\n",
    "....\n",
    "\n",
    "all_points_test_stats"
   ]
  },
  {
   "cell_type": "markdown",
   "metadata": {},
   "source": [
    "**c. (6 Points) Now, to calculate the p-value for our strange landing point, we are going to count the times where our landing coordinates' test stat were larger than or equal to our strange test stat.**\n",
    "\n",
    "**Dividing this number with the total number of landings would give us the p-value.**"
   ]
  },
  {
   "cell_type": "code",
   "execution_count": null,
   "metadata": {
    "ExecuteTime": {
     "end_time": "2020-05-01T22:27:32.997836Z",
     "start_time": "2020-05-01T22:27:32.990770Z"
    }
   },
   "outputs": [],
   "source": [
    "# you will be using all_points_test_stats and strange_test_stat to calculate the p-value\n",
    "p_value = ...............\n",
    "p_value"
   ]
  },
  {
   "cell_type": "markdown",
   "metadata": {
    "deletable": false,
    "for_assignment_type": "student",
    "manual_problem_id": "landing_4"
   },
   "source": [
    "**d. (4 Points) Was your landing strange after all? Briefly discuss by comparing with the commonly used p-value significance levels**"
   ]
  },
  {
   "cell_type": "markdown",
   "metadata": {
    "manual_problem_id": "bootstrap_5"
   },
   "source": [
    "*Write your answer here, replacing this text.*"
   ]
  },
  {
   "cell_type": "markdown",
   "metadata": {},
   "source": [
    "# (20 Points) Correlations"
   ]
  },
  {
   "cell_type": "markdown",
   "metadata": {},
   "source": [
    "In this exercise you will be exploring the relation between peoples' weights and heights. "
   ]
  },
  {
   "cell_type": "code",
   "execution_count": 151,
   "metadata": {},
   "outputs": [
    {
     "data": {
      "text/html": [
       "<table border=\"1\" class=\"dataframe\">\n",
       "    <thead>\n",
       "        <tr>\n",
       "            <th>Height</th> <th>Weight</th>\n",
       "        </tr>\n",
       "    </thead>\n",
       "    <tbody>\n",
       "        <tr>\n",
       "            <td>73.847 </td> <td>241.894</td>\n",
       "        </tr>\n",
       "        <tr>\n",
       "            <td>68.7819</td> <td>162.31 </td>\n",
       "        </tr>\n",
       "        <tr>\n",
       "            <td>74.1101</td> <td>212.741</td>\n",
       "        </tr>\n",
       "        <tr>\n",
       "            <td>71.731 </td> <td>220.042</td>\n",
       "        </tr>\n",
       "        <tr>\n",
       "            <td>69.8818</td> <td>206.35 </td>\n",
       "        </tr>\n",
       "        <tr>\n",
       "            <td>67.253 </td> <td>152.212</td>\n",
       "        </tr>\n",
       "        <tr>\n",
       "            <td>68.7851</td> <td>183.928</td>\n",
       "        </tr>\n",
       "        <tr>\n",
       "            <td>68.3485</td> <td>167.971</td>\n",
       "        </tr>\n",
       "        <tr>\n",
       "            <td>67.0189</td> <td>175.929</td>\n",
       "        </tr>\n",
       "        <tr>\n",
       "            <td>63.4565</td> <td>156.4  </td>\n",
       "        </tr>\n",
       "    </tbody>\n",
       "</table>\n",
       "<p>... (9990 rows omitted)</p>"
      ],
      "text/plain": [
       "Height  | Weight\n",
       "73.847  | 241.894\n",
       "68.7819 | 162.31\n",
       "74.1101 | 212.741\n",
       "71.731  | 220.042\n",
       "69.8818 | 206.35\n",
       "67.253  | 152.212\n",
       "68.7851 | 183.928\n",
       "68.3485 | 167.971\n",
       "67.0189 | 175.929\n",
       "63.4565 | 156.4\n",
       "... (9990 rows omitted)"
      ]
     },
     "execution_count": 151,
     "metadata": {},
     "output_type": "execute_result"
    }
   ],
   "source": [
    "health = Table.read_table(\"weight-height.csv\")\n",
    "health"
   ]
  },
  {
   "cell_type": "markdown",
   "metadata": {},
   "source": [
    "**a. (6 Points) Make a scatter plot of the data.  Put weight on the vertical axis**"
   ]
  },
  {
   "cell_type": "code",
   "execution_count": 153,
   "metadata": {},
   "outputs": [
    {
     "data": {
      "image/png": "[encoded data removed]",
      "text/plain": [
       "<Figure size 360x360 with 1 Axes>"
      ]
     },
     "metadata": {},
     "output_type": "display_data"
    }
   ],
   "source": [
    "health.scatter(\"Height\",\"Weight\")"
   ]
  },
  {
   "cell_type": "markdown",
   "metadata": {},
   "source": [
    "**b. (4 Points) Look at the scatter plot. Are height and weight roughly linearly related? Indicate which of the below correlations strengths are most probably and  briefly explain your answer**\n",
    "- 1\n",
    "- 0\n",
    "- -1"
   ]
  },
  {
   "cell_type": "markdown",
   "metadata": {},
   "source": [
    "*Yes they are linearly related because when we look at the scatter the we can see the r value is bigger then zero. That's why it is linearly related*"
   ]
  },
  {
   "cell_type": "markdown",
   "metadata": {},
   "source": [
    "**c. (5 Points) We'd next like to see the data in standard units.  Recall that, if `nums` is an array of numbers, then..**\n",
    "\n",
    "    (nums - np.mean(nums)) / np.std(nums)\n",
    "\n",
    "**...is an array of those numbers in standard units.**"
   ]
  },
  {
   "cell_type": "code",
   "execution_count": 161,
   "metadata": {},
   "outputs": [
    {
     "data": {
      "text/html": [
       "<table border=\"1\" class=\"dataframe\">\n",
       "    <thead>\n",
       "        <tr>\n",
       "            <th>weight (standard units)</th> <th>height (standard units)</th>\n",
       "        </tr>\n",
       "    </thead>\n",
       "    <tbody>\n",
       "        <tr>\n",
       "            <td>2.5058                 </td> <td>1.94406                </td>\n",
       "        </tr>\n",
       "        <tr>\n",
       "            <td>0.0271006              </td> <td>0.627537               </td>\n",
       "        </tr>\n",
       "        <tr>\n",
       "            <td>1.59781                </td> <td>2.01244                </td>\n",
       "        </tr>\n",
       "        <tr>\n",
       "            <td>1.82522                </td> <td>1.39406                </td>\n",
       "        </tr>\n",
       "        <tr>\n",
       "            <td>1.39875                </td> <td>0.913421               </td>\n",
       "        </tr>\n",
       "        <tr>\n",
       "            <td>-0.287422              </td> <td>0.230148               </td>\n",
       "        </tr>\n",
       "        <tr>\n",
       "            <td>0.700397               </td> <td>0.628362               </td>\n",
       "        </tr>\n",
       "        <tr>\n",
       "            <td>0.203407               </td> <td>0.51489                </td>\n",
       "        </tr>\n",
       "        <tr>\n",
       "            <td>0.451277               </td> <td>0.169309               </td>\n",
       "        </tr>\n",
       "        <tr>\n",
       "            <td>-0.156997              </td> <td>-0.756645              </td>\n",
       "        </tr>\n",
       "    </tbody>\n",
       "</table>\n",
       "<p>... (9990 rows omitted)</p>"
      ],
      "text/plain": [
       "weight (standard units) | height (standard units)\n",
       "2.5058                  | 1.94406\n",
       "0.0271006               | 0.627537\n",
       "1.59781                 | 2.01244\n",
       "1.82522                 | 1.39406\n",
       "1.39875                 | 0.913421\n",
       "-0.287422               | 0.230148\n",
       "0.700397                | 0.628362\n",
       "0.203407                | 0.51489\n",
       "0.451277                | 0.169309\n",
       "-0.156997               | -0.756645\n",
       "... (9990 rows omitted)"
      ]
     },
     "execution_count": 161,
     "metadata": {},
     "output_type": "execute_result"
    }
   ],
   "source": [
    "weight_mean = np.mean(health.column(\"Weight\"))\n",
    "weight_std = np.std(health.column(\"Weight\"))\n",
    "height_mean = np.mean(health.column(\"Height\"))\n",
    "height_std = np.std(health.column(\"Height\"))\n",
    "weight_val = (health.column(\"Weight\")-weight_mean)/weight_std\n",
    "height_val = (health.column(\"Height\")-height_mean)/height_std\n",
    "\n",
    "standard_health = Table().with_columns(\n",
    "   \"weight (standard units)\", weight_val,\n",
    "   \"height (standard units)\", height_val)\n",
    "standard_health"
   ]
  },
  {
   "cell_type": "markdown",
   "metadata": {},
   "source": [
    "**d. (5 Points) Calculate the correlation score between the two variables**\n",
    "\n",
    "Hint: Calculate this by using the data in the standard units."
   ]
  },
  {
   "cell_type": "code",
   "execution_count": 163,
   "metadata": {},
   "outputs": [
    {
     "data": {
      "text/plain": [
       "array([4.87142341, 0.01700664, 3.2154947 , ..., 0.66705385, 0.05207269,\n",
       "       1.71134914])"
      ]
     },
     "execution_count": 163,
     "metadata": {},
     "output_type": "execute_result"
    }
   ],
   "source": [
    "r = standard_health.column(\"weight (standard units)\") * standard_health.column(\"height (standard units)\")\n",
    "r"
   ]
  },
  {
   "cell_type": "code",
   "execution_count": 164,
   "metadata": {},
   "outputs": [
    {
     "data": {
      "text/plain": [
       "0.1"
      ]
     },
     "execution_count": 164,
     "metadata": {},
     "output_type": "execute_result"
    }
   ],
   "source": [
    "a = make_array(0.1, 1.47, 1.82, 2.18, 2.22, 3.84, 5.02, 6.0, 6.3, 9.62, 9.74, 10.75, 11.33, 11.58, 12.44, 13.39, 14.21, 14.23, 18.62, 19.52)\n",
    "percentile(2.5, a)"
   ]
  },
  {
   "cell_type": "code",
   "execution_count": null,
   "metadata": {},
   "outputs": [],
   "source": []
  }
 ],
 "metadata": {
  "kernelspec": {
   "display_name": "Python 3",
   "language": "python",
   "name": "python3"
  },
  "language_info": {
   "codemirror_mode": {
    "name": "ipython",
    "version": 3
   },
   "file_extension": ".py",
   "mimetype": "text/x-python",
   "name": "python",
   "nbconvert_exporter": "python",
   "pygments_lexer": "ipython3",
   "version": "3.7.4"
  },
  "toc": {
   "base_numbering": 1,
   "nav_menu": {},
   "number_sections": true,
   "sideBar": true,
   "skip_h1_title": false,
   "title_cell": "Table of Contents",
   "title_sidebar": "Contents",
   "toc_cell": false,
   "toc_position": {},
   "toc_section_display": true,
   "toc_window_display": false
  }
 },
 "nbformat": 4,
 "nbformat_minor": 4
}
